{
 "cells": [
  {
   "cell_type": "code",
   "execution_count": null,
   "metadata": {},
   "outputs": [],
   "source": [
    "import zipfile\n",
    "from bs4 import BeautifulSoup\n",
    "from google.auth.transport.requests import Request\n",
    "from googleapiclient.discovery import build\n",
    "from text_unidecode import unidecode\n",
    "import random, pandas as pd\n",
    "from datetime import datetime, timedelta\n",
    "import datetime, time, gspread\n",
    "from google.oauth2.service_account import Credentials\n",
    "import csv, re, os, json\n",
    "from deep_translator import GoogleTranslator\n",
    "from docx import Document\n",
    "from langdetect import detect, DetectorFactory\n",
    "from langdetect.lang_detect_exception import LangDetectException"
   ]
  },
  {
   "cell_type": "code",
   "execution_count": null,
   "metadata": {},
   "outputs": [],
   "source": [
    "ethiopic_transliteration = {\n",
    "    'ሀ': 'ha', 'ሁ': 'hu', 'ሂ': 'hi', 'ሃ': 'ha', 'ሄ': 'hé', 'ህ': 'h', 'ሆ': 'ho',\n",
    "    'ሐ': 'ha', 'ሑ': 'hu', 'ሒ': 'hi', 'ሓ': 'ha', 'ሔ': 'hé', 'ሕ': 'h', 'ሖ': 'ho', 'ሗ': 'hwa',\n",
    "    'ኀ': 'ha', 'ኁ': 'hu', 'ኂ': 'hi', 'ኃ': 'ha', 'ኄ': 'hé', 'ኅ': 'h', 'ኆ': 'ho',\n",
    "    'ለ': 'le', 'ሉ': 'lu', 'ሊ': 'li', 'ላ': 'la', 'ሌ': 'lé', 'ል': 'l', 'ሎ': 'lo', 'ሏ': 'la',\n",
    "    'መ': 'mä', 'ሙ': 'mu', 'ሚ': 'mi', 'ማ': 'ma', 'ሜ': 'mé', 'ም': 'm', 'ሞ': 'mo', 'ሟ': 'mwa',\n",
    "    'ሠ': 'se', 'ሡ': 'su', 'ሢ': 'si', 'ሣ': 'sa', 'ሤ': 'sé', 'ሥ': 's', 'ሦ': 'so', 'ሧ': 'swa',\n",
    "    'ሰ': 'se', 'ሱ': 'su', 'ሲ': 'si', 'ሳ': 'sa', 'ሴ': 'sé', 'ስ': 's', 'ሶ': 'so', 'ሷ': 'swa',\n",
    "    'ረ': 're', 'ሩ': 'ru', 'ሪ': 'ri', 'ራ': 'ra', 'ሬ': 'ré', 'ር': 'r', 'ሮ': 'ro', 'ሯ': 'rwa',\n",
    "    'ሸ': 'she', 'ሹ': 'shu', 'ሺ': 'shi', 'ሻ': 'sha', 'ሼ': 'shé', 'ሽ': 'sh', 'ሾ': 'sho', 'ሿ': 'shwa',\n",
    "    'ቀ': \"k'\", 'ቁ': \"k'u\", 'ቂ': \"k'i\", 'ቃ': \"k'a\", 'ቄ': \"k'é\", 'ቅ': \"k'\", 'ቆ': \"k'o\",\n",
    "    'በ': 'be', 'ቡ': 'bu', 'ቢ': 'bi', 'ባ': 'ba', 'ቤ': 'bé', 'ብ': 'b', 'ቦ': 'bo', 'ቧ': 'bwa',\n",
    "    'ተ': 'te', 'ቱ': 'tu', 'ቲ': 'ti', 'ታ': 'ta', 'ቴ': 'té', 'ት': 't', 'ቶ': 'to', 'ቷ': 'twa',\n",
    "    'ቸ': 'tche', 'ቹ': 'tchu', 'ቺ': 'tchi', 'ቻ': 'tcha', 'ቼ': 'tché', 'ች': 'tch', 'ቾ': 'tcho', 'ቿ': 'tchwa',\n",
    "    'ጨ': \"tch'a\", 'ጩ': \"tch'u\", 'ጪ': \"tch'i\", 'ጫ': \"tch'a\", 'ጬ': \"tch'é\", 'ጭ': \"tch'\", 'ጮ': \"tch'o\", 'ጯ': \"tch'wa\",\n",
    "    'ነ': 'na', 'ኑ': 'nu', 'ኒ': 'ni', 'ና': 'na', 'ኔ': 'né', 'ን': 'n', 'ኖ': 'no', 'ኗ': 'nwa',\n",
    "    'ኘ': 'ñe', 'ኙ': 'ñu', 'ኚ': 'ñi', 'ኛ': 'ñ', 'ኜ': 'ñé', 'ኝ': 'ñ', 'ኞ': 'ño',\n",
    "    'አ': 'a', 'ኡ': 'u', 'ኢ': 'i', 'ኣ': 'a', 'ኤ': 'é', 'እ': 'ē', 'ኦ': 'o', 'ኧ': 'a',\n",
    "    'ከ': 'ka', 'ኩ': 'ku', 'ኪ': 'ki', 'ካ': 'ka', 'ኬ': 'ké', 'ክ': 'k', 'ኮ': 'ko', 'ኯ': 'kwē',\n",
    "    'ኸ': 'he', 'ኹ': 'hu', 'ኺ': 'hi', 'ኻ': 'ha', 'ኼ': 'hé', 'ኽ': 'h', 'ኾ': 'ho', 'ዀ': 'hwē',\n",
    "    'ወ': 'wa', 'ዉ': 'wu', 'ዊ': 'wi', 'ዋ': 'wa', 'ዌ': 'wé', 'ው': 'w', 'ዎ': 'wo', 'ዏ': 'wē',\n",
    "    'ዐ': 'a', 'ዑ': 'hu', 'ዒ': 'i', 'ዓ': 'a', 'ዔ': 'é', 'ዕ': 'ē', 'ዖ': 'o',\n",
    "    'ዘ': 'za', 'ዙ': 'zu', 'ዚ': 'zi', 'ዛ': 'za', 'ዜ': 'zé', 'ዝ': 'z', 'ዞ': 'zo', 'ዟ': 'zwa',\n",
    "    'ዠ': 'je', 'ዡ': 'ju', 'ዢ': 'ji', 'ዣ': 'ja', 'ዤ': 'jé', 'ዥ': 'j', 'ዦ': 'jo', 'ዧ': 'jwa',\n",
    "    'የ': 'ye', 'ዩ': 'yu', 'ዪ': 'yi', 'ያ': 'ya', 'ዬ': 'yé', 'ይ': 'y', 'ዮ': 'yo', 'ዯ': 'yē',\n",
    "    'ደ': 'de', 'ዱ': 'du', 'ዲ': 'di', 'ዳ': 'da', 'ዴ': 'dé', 'ድ': 'd', 'ዶ': 'do', 'ዷ': 'dwa',\n",
    "    'ጀ': 'dje', 'ጁ': 'dju', 'ጂ': 'dji', 'ጃ': 'dja', 'ጄ': 'djé', 'ጅ': 'dj', 'ጆ': 'djo', 'ጇ': 'djwa',\n",
    "    'ገ': 'g', 'ጉ': 'gu', 'ጊ': 'gi', 'ጋ': 'ga', 'ጌ': 'gé', 'ግ': 'g', 'ጎ': 'go', 'ጏ': 'gē',\n",
    "    'ጠ': \"t'a\", 'ጡ': \"t'u\", 'ጢ': \"t'i\", 'ጣ': \"t'a\", 'ጤ': \"t'é\", 'ጥ': \"t'\", 'ጦ': \"t'o\", 'ጧ': \"t'wa\",\n",
    "    'ጰ': \"s'a\", 'ጱ': \"s'u\", 'ጲ': \"s'i\", 'ጳ': \"s'a\", 'ጴ': \"s'é\", 'ጵ': \"s'\", 'ጶ': \"s'o\", 'ጷ': \"s'wa\",\n",
    "    'ጸ': \"ts'e\", 'ጹ': \"ts'u\", 'ጺ': \"ts'i\", 'ጻ': \"ts'a\", 'ጼ': \"ts'é\", 'ጽ': \"ts'\", 'ጾ': \"ts'o\", 'ጿ': \"ts'wa\",\n",
    "    'ፀ': 'tse', 'ፁ': 'tsu', 'ፂ': 'tsi', 'ፃ': 'tsa', 'ፄ': 'tsé', 'ፅ': 'ts', 'ፆ': 'tso',\n",
    "    'ፈ': 'fe', 'ፉ': 'fu', 'ፊ': 'fi', 'ፋ': 'fa', 'ፌ': 'fé', 'ፍ': 'f', 'ፎ': 'fo', 'ፏ': 'fwa',\n",
    "    'ፐ': 'pe', 'ፑ': 'pu', 'ፒ': 'pi', 'ፓ': 'pa', 'ፔ': 'pé', 'ፕ': 'p', 'ፖ': 'po'\n",
    "}\n",
    "\n",
    "\n",
    "def transliterate_ethiopic(text):\n",
    "    return ''.join(ethiopic_transliteration.get(char, char) for char in text)"
   ]
  },
  {
   "cell_type": "code",
   "execution_count": null,
   "metadata": {},
   "outputs": [],
   "source": [
    "# Définir les scopes requis pour accéder à Google Sheets et Google Drive\n",
    "scopes = [\n",
    "    'https://spreadsheets.google.com/feeds',\n",
    "    'https://www.googleapis.com/auth/drive','https://www.googleapis.com/auth/drive.file',\n",
    "    'https://www.googleapis.com/auth/drive.appdata','https://www.googleapis.com/auth/drive.appfolder'\n",
    "]\n",
    "\n",
    "# Chemin vers le fichier de crédentials JSON\n",
    "path_to_google_cred = \"C:/Users/flosr/Engineering/Data Engineering/credentials.json\"\n",
    "\n",
    "# Créer les crédentials à partir du fichier de service account\n",
    "creds = Credentials.from_service_account_file(path_to_google_cred, scopes=scopes)\n",
    "\n",
    "# Autoriser l'accès en utilisant les crédentials\n",
    "client = gspread.authorize(creds)\n",
    "\n",
    "# ID de la feuille Google Sheets\n",
    "sheet_id = \"179ajVaPhOWouRJTP19vIfSD3Q2FJCnZiOQtj2BScfn0\"\n",
    "\n",
    "# Ouvrir la feuille Google Sheets en utilisant son ID\n",
    "spreadsheet = client.open_by_key(sheet_id)\n",
    "\n",
    "worksheets = spreadsheet.worksheets()\n",
    "\n",
    "drive_service = build('drive', 'v3', credentials=creds)\n"
   ]
  },
  {
   "cell_type": "code",
   "execution_count": null,
   "metadata": {},
   "outputs": [],
   "source": [
    "def show_sheet_titles():\n",
    "    worksheet_titles = [ws.title for ws in worksheets]\n",
    "    return worksheet_titles"
   ]
  },
  {
   "cell_type": "code",
   "execution_count": null,
   "metadata": {},
   "outputs": [],
   "source": [
    "Persan = Russe = Amharic = None\n",
    "worksheets_list = []\n",
    "\n",
    "for ws in worksheets:\n",
    "    worksheets_list.append(ws.title)\n",
    "    if ws.title == 'Persan':\n",
    "        Persan = ws\n",
    "    if ws.title == 'Russe':\n",
    "        Russe = ws\n",
    "    if ws.title == 'Amharic':\n",
    "        Amharic = ws       \n",
    "    if ws.title == 'Somali':\n",
    "        Somali = ws       \n",
    "    if ws.title == 'Arabic':\n",
    "        Arabic = ws\n",
    "    if ws.title == 'Tigrinya':\n",
    "        Tigrinya = ws\n",
    "    if ws.title == \"Amharic Alphabet\":\n",
    "        Amharic_Alphabet = ws\n",
    "        \n",
    "        break    "
   ]
  },
  {
   "cell_type": "code",
   "execution_count": null,
   "metadata": {},
   "outputs": [],
   "source": [
    "sheet_title_basic =['_CONCEPTS_DE_BASE',\n",
    " \"L'HOMME\",\n",
    " 'VÊTEMENTS ET ACCESSOIRES',\n",
    " 'LES_ALIMENTS',\n",
    " 'FAMILLE_ET_AMIS',\n",
    " 'CARACTERE_ET_EMOTIONS',\n",
    " 'MEDECINE',\n",
    " \"L'HABITAT\",\n",
    " 'ACTIVITES_HUMAINES',\n",
    " 'TECHNIQUE_TRANSPORTS',\n",
    " 'GENS_ET_EVENEMENTS',\n",
    " 'LA_NATURE']"
   ]
  },
  {
   "cell_type": "code",
   "execution_count": 78,
   "metadata": {},
   "outputs": [
    {
     "name": "stderr",
     "output_type": "stream",
     "text": [
      "C:\\Users\\flosr\\AppData\\Local\\Temp\\ipykernel_1672\\700653075.py:12: DeprecationWarning: The order of arguments in worksheet.update() has changed. Please pass values first and range_name secondor used named arguments (range_name=, values=)\n",
      "  sheet.update(cell_range, [header])\n"
     ]
    }
   ],
   "source": [
    "def create_sheets_for_language(sheet_lang):\n",
    "    if sheet_lang == \"Persian\" or sheet_lang == \"Persan\":\n",
    "        lang = \"Persian\"\n",
    "        abrev_lang = \"Persian\"\n",
    "    if sheet_lang == \"Hindi\" or sheet_lang == \"hindi\":\n",
    "        abrev_lang = \"hi\"\n",
    "    if sheet_lang == \"Indonesian\" or sheet_lang == \"Persan\":\n",
    "        abrev_lang = \"Ind\"\n",
    "\n",
    "    spreadsheet = client.open_by_key(sheet_id)\n",
    "\n",
    "    header = [\"FR/ENG\", abrev_lang, \"Translittération\", \"V\"] * 12\n",
    "    NUMBER = 0\n",
    "    for title in sheet_title_basic:\n",
    "        NUMBER +=1 \n",
    "        new_title = f\"{sheet_lang}_{NUMBER}_{title}\"\n",
    "        sheet = spreadsheet.add_worksheet(title=new_title, rows=\"100\", cols=\"26\")\n",
    "\n",
    "        # Mise à jour de la première ligne avec le header et formatage\n",
    "        cell_range_header = \"A1:AZ1\"\n",
    "        sheet.update(cell_range_header, [header])\n",
    "\n",
    "        # Mise à jour de la deuxième ligne avec les mêmes données et formatage\n",
    "        cell_range_subheader = \"A2:AZ2\"\n",
    "        sheet.update(cell_range_subheader, [header])\n",
    "\n",
    "        # Définir le formatage pour les deux premières lignes\n",
    "        first_two_rows_format = {\n",
    "            \"backgroundColor\": {\"blue\": 0.392, \"green\": 0.584, \"red\": 0.929},  # Cornflower blue\n",
    "            \"textFormat\": {\"bold\": True, \"foregroundColor\": {\"red\": 1.0, \"green\": 1.0, \"blue\": 1.0}}  # Blanc\n",
    "        }\n",
    "\n",
    "        # Appliquer le formatage aux deux premières lignes\n",
    "        format_cell_ranges = [\n",
    "            {\n",
    "                \"range\": {\n",
    "                    \"sheetId\": sheet.id,\n",
    "                    \"startRowIndex\": 0,\n",
    "                    \"endRowIndex\": 2,  # Inclut la première et la deuxième ligne\n",
    "                    \"startColumnIndex\": 0,\n",
    "                    \"endColumnIndex\": len(header)\n",
    "                },\n",
    "                \"cell\": {\n",
    "                    \"userEnteredFormat\": first_two_rows_format\n",
    "                },\n",
    "                \"fields\": \"userEnteredFormat(backgroundColor,textFormat)\"\n",
    "            }\n",
    "        ]\n",
    "\n",
    "        # Envoyer la requête de mise à jour de format en batch\n",
    "        body = {\"requests\": [{\"repeatCell\": range} for range in format_cell_ranges]}\n",
    "        spreadsheet.batch_update(body)\n",
    "\n",
    "        # Assigner la feuille à une variable globale avec un nom propre\n",
    "        globals()[title.replace(\" \", \"_\")] = sheet\n",
    "\n",
    "# Exemple d'utilisation\n",
    "sheet_lang = \"Persian\"\n",
    "create_sheets_for_language(sheet_lang)"
   ]
  },
  {
   "cell_type": "code",
   "execution_count": 79,
   "metadata": {},
   "outputs": [
    {
     "name": "stdout",
     "output_type": "stream",
     "text": [
      "Worksheet 'Persian__CONCEPTS_DE_BASE' deleted.\n",
      "Worksheet 'Persian__L'HOMME' deleted.\n",
      "Worksheet 'Persian__VÊTEMENTS ET ACCESSOIRES' deleted.\n",
      "Worksheet 'Persian__LES_ALIMENTS' deleted.\n",
      "Worksheet 'Persian__FAMILLE_ET_AMIS' deleted.\n",
      "Worksheet 'Persian__CARACTERE_ET_EMOTIONS' deleted.\n",
      "Worksheet 'Persian__MEDECINE' deleted.\n",
      "Worksheet 'Persian__L'HABITAT' deleted.\n",
      "Worksheet 'Persian__ACTIVITES_HUMAINES' deleted.\n",
      "Worksheet 'Persian__TECHNIQUE_TRANSPORTS' deleted.\n",
      "Worksheet 'Persian__GENS_ET_EVENEMENTS' deleted.\n",
      "Worksheet 'Persian__LA_NATURE' deleted.\n"
     ]
    }
   ],
   "source": [
    "def delete_worksheet_by_name(keyword):\n",
    "    spreadsheet = client.open_by_key(sheet_id)\n",
    "    worksheets = spreadsheet.worksheets()\n",
    "\n",
    "    for worksheet in worksheets:\n",
    "        worksheet_name = worksheet.title\n",
    "        if keyword in worksheet.title:\n",
    "            # Supprimer la feuille de calcul\n",
    "            spreadsheet.del_worksheet(worksheet)\n",
    "            print(f\"Worksheet '{worksheet_name}' deleted.\")\n",
    "            \n",
    "\n",
    "delete_worksheet_by_name(\"Persian\")\n"
   ]
  },
  {
   "cell_type": "code",
   "execution_count": null,
   "metadata": {},
   "outputs": [],
   "source": [
    "show_sheet_titles()"
   ]
  },
  {
   "cell_type": "markdown",
   "metadata": {},
   "source": [
    "Création des Sheets Russian"
   ]
  },
  {
   "cell_type": "code",
   "execution_count": null,
   "metadata": {},
   "outputs": [],
   "source": [
    "# Exemple d'utilisation\n",
    "sheet_lang = \"Russian\"\n",
    "create_sheets_for_language(sheet_lang)"
   ]
  },
  {
   "cell_type": "markdown",
   "metadata": {},
   "source": [
    "Création des Sheets Hindi"
   ]
  },
  {
   "cell_type": "code",
   "execution_count": null,
   "metadata": {},
   "outputs": [],
   "source": [
    "# Exemple d'utilisation\n",
    "sheet_lang = \"Hindi\"\n",
    "create_sheets_for_language(sheet_lang)"
   ]
  },
  {
   "cell_type": "markdown",
   "metadata": {},
   "source": [
    "Reference Sheet Creation"
   ]
  },
  {
   "cell_type": "code",
   "execution_count": 94,
   "metadata": {},
   "outputs": [],
   "source": [
    "import time\n",
    "\n",
    "def get_sheet_content(sheet_title):\n",
    "    # Ouvrir la feuille de calcul\n",
    "    spreadsheet = client.open_by_key(sheet_id)\n",
    "\n",
    "    try:\n",
    "        # Accéder à la feuille par son titre\n",
    "        sheet = spreadsheet.worksheet(sheet_title)\n",
    "\n",
    "        # Récupérer tout le contenu de la feuille\n",
    "        sheet_content = sheet.get_all_values()\n",
    "\n",
    "        return sheet_content\n",
    "\n",
    "    except gspread.exceptions.WorksheetNotFound:\n",
    "        print(f\"Feuille '{sheet_title}' non trouvée.\")\n",
    "        return None\n",
    "\n",
    "def create_reference_sheet(content_to_copy, sheet_title_to_create):\n",
    "    # Ouvrir la feuille de calcul\n",
    "    spreadsheet = client.open_by_key(sheet_id)\n",
    "\n",
    "    # Vérifier si la feuille existe déjà\n",
    "    try:\n",
    "        spreadsheet.worksheet(sheet_title_to_create)\n",
    "        print(f\"Feuille '{sheet_title_to_create}' existe déjà. Ignorer la création.\")\n",
    "        return\n",
    "    except gspread.exceptions.WorksheetNotFound:\n",
    "        pass\n",
    "\n",
    "    # Créer une nouvelle feuille avec le titre spécifié\n",
    "    new_sheet = spreadsheet.add_worksheet(title=sheet_title_to_create, rows=\"100\", cols=\"26\")\n",
    "\n",
    "    # Écrire le contenu dans la nouvelle feuille\n",
    "    for row_idx, row in enumerate(content_to_copy, start=1):\n",
    "        new_sheet.insert_row(row, index=row_idx)\n",
    "        time.sleep(1.8)  # Attendre 1.8 secondes après chaque insertion de ligne\n",
    "\n",
    "    print(f\"Feuille '{sheet_title_to_create}' créée avec succès.\")\n"
   ]
  },
  {
   "cell_type": "code",
   "execution_count": 92,
   "metadata": {},
   "outputs": [],
   "source": [
    "CONCEPTS_DE_BASE = get_sheet_content(\"Amharic_CONCEPTS_DE_BASE\")"
   ]
  },
  {
   "cell_type": "code",
   "execution_count": 95,
   "metadata": {},
   "outputs": [
    {
     "name": "stdout",
     "output_type": "stream",
     "text": [
      "Feuille 'PROTOTYPE_CONCEPTS_DE_BASE' créée avec succès.\n"
     ]
    }
   ],
   "source": [
    "create_reference_sheet(CONCEPTS_DE_BASE, \"PROTOTYPE_CONCEPTS_DE_BASE\")\n"
   ]
  },
  {
   "cell_type": "code",
   "execution_count": null,
   "metadata": {},
   "outputs": [],
   "source": []
  }
 ],
 "metadata": {
  "kernelspec": {
   "display_name": "Python 3",
   "language": "python",
   "name": "python3"
  },
  "language_info": {
   "codemirror_mode": {
    "name": "ipython",
    "version": 3
   },
   "file_extension": ".py",
   "mimetype": "text/x-python",
   "name": "python",
   "nbconvert_exporter": "python",
   "pygments_lexer": "ipython3",
   "version": "3.12.3"
  }
 },
 "nbformat": 4,
 "nbformat_minor": 2
}
